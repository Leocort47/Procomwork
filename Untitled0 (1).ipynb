{
  "nbformat": 4,
  "nbformat_minor": 0,
  "metadata": {
    "colab": {
      "name": "Untitled0.ipynb",
      "provenance": []
    },
    "kernelspec": {
      "name": "python3",
      "display_name": "Python 3"
    },
    "language_info": {
      "name": "python"
    }
  },
  "cells": [
    {
      "cell_type": "code",
      "execution_count": 6,
      "metadata": {
        "id": "Hu5L-Y_iqONQ"
      },
      "outputs": [],
      "source": [
        "#Taller1\n",
        "\n"
      ]
    },
    {
      "cell_type": "code",
      "source": [
        "print(\"Hola Usuario, welcome!!!\")\n",
        "num1 = int(input(\"Digita un numero entero: \"))\n",
        "num2 = int(input(\"Digita otro numero entero: \"))\n",
        "\n",
        "try:\n",
        "    div = num1/num2 \n",
        "    if num1%num2 == 0:\n",
        "       print(\"La division es exacta\")\n",
        "    elif div != 0:\n",
        "      print(f\"El resultado de la division es: {div}\") \n",
        "    #print(\"Error!!!\")\n",
        "except ZeroDivisionError as err:\n",
        "     print('Error, no podes dividir entre cero') \n",
        "\n",
        "    \n",
        "\n",
        "\n",
        "    "
      ],
      "metadata": {
        "colab": {
          "base_uri": "https://localhost:8080/"
        },
        "id": "M4uHmI4BqjNC",
        "outputId": "b382bf31-e677-483f-c3dc-888a86a5287f"
      },
      "execution_count": 37,
      "outputs": [
        {
          "output_type": "stream",
          "name": "stdout",
          "text": [
            "Hola Usuario, welcome!!!\n",
            "Digita un numero entero: 4\n",
            "Digita otro numero entero: 0\n",
            "Error, no podes dividir entre cero\n"
          ]
        }
      ]
    },
    {
      "cell_type": "code",
      "source": [
        "print(\"Welcome usuario\")\n",
        "num1 = int(input(\"Digita un numero: \"))\n",
        "num2 = int(input(\"Digita un numero: \"))\n",
        "\n",
        "# Si el residuo es 0, es múltiplo\n",
        "if num1 % num2 == 0:\n",
        "        print(f\"{num1} es multiplo de {num2}\")\n",
        "else:\n",
        "        print(f\"{num1} no es multiplo de {num2}\")\n",
        "\n",
        "       \n"
      ],
      "metadata": {
        "colab": {
          "base_uri": "https://localhost:8080/"
        },
        "id": "lO-ZeAlH6fTU",
        "outputId": "aa382341-033a-470f-8660-92235df9be9c"
      },
      "execution_count": 41,
      "outputs": [
        {
          "output_type": "stream",
          "name": "stdout",
          "text": [
            "Welcome usuario\n",
            "Digita un numero: 10\n",
            "Digita un numero: 3\n",
            "10 no es multiplo de 3\n"
          ]
        }
      ]
    },
    {
      "cell_type": "code",
      "source": [
        "#Ordenar de mayor a menor las edades\n",
        "print(\"Welcome user!!!\")\n",
        "per1 = int(input(\"Digita la edad de la primera persona: \"))\n",
        "per2 = int(input(\"Digita la edad de la segunda persona: \"))\n",
        "per3 = int(input(\"Digita la edad de la tercera persona: \"))\n",
        "\n",
        "if per1 < per2 and per1 < per3 and per2< per3:\n",
        "    print(f\"la edad de la primera persona {per1} es el menor \\n{per2} \\n{per3}\")\n",
        "\n",
        "elif per2 < per1 and per2 <per3 and per1 < per3:\n",
        "    print(f\"la edad de la segunda persona {per2} es el menor \\n{per1} \\n{per3} \")\n",
        "\n",
        "elif per3 < per2 and per3 <per1 and per1 < per2:\n",
        "    print(f\"la edad de la tercera persona {per3} es el menor \\n{per1}  \\n{per2} \")\n",
        "\n",
        "elif per1 == per2:\n",
        "  print(f\"{per1} y {per2} son mellizos \\n{per3} le sigue\")\n",
        "\n",
        "elif per2 == per3:\n",
        "    print(f\"{per2} y {per3} son mellizos \\n{per1} le sigue\")\n",
        "\n",
        "elif per1 == per2 and per3 == per2:\n",
        "  print(\"Los tres son mellizos\")    \n",
        "      \n",
        "\n"
      ],
      "metadata": {
        "colab": {
          "base_uri": "https://localhost:8080/"
        },
        "id": "enUkYU7986h_",
        "outputId": "eb278f28-c5ef-4f96-d40b-74545f0b46c5"
      },
      "execution_count": 61,
      "outputs": [
        {
          "output_type": "stream",
          "name": "stdout",
          "text": [
            "Welcome user!!!\n",
            "Digita la edad de la primera persona: 20\n",
            "Digita la edad de la segunda persona: 25\n",
            "Digita la edad de la tercera persona: 10\n",
            "la edad de la tercera persona 10 es el menor \n",
            "20  \n",
            "25 \n"
          ]
        }
      ]
    },
    {
      "cell_type": "code",
      "source": [
        "print(\"Hola usuario, bienvenido a la DIAN\")\n",
        "print(\"Porfa responde las siguientes preguntas para saber si tenes que presentar declaracion de renta\")\n",
        "\n",
        "ingresos = int(input(\"Digita por favor tus ingresos totales para el año actual: \"))\n",
        "patrimonio = int(input(\"Digita cuanto es el monto total de tu patrimonio bruto en el año actual\"))\n",
        "\n",
        "if patrimonio >= 163386000:\n",
        "  print(\"Debes declarar renta\")  \n",
        "elif ingresos >= 50831000:\n",
        "  print(\"Debes declarar renta\") \n",
        "else:\n",
        "    print(\"No debes declarar renta\") "
      ],
      "metadata": {
        "colab": {
          "base_uri": "https://localhost:8080/"
        },
        "id": "rL5dBiG-DYTj",
        "outputId": "89538d35-ba40-497a-91fd-567b00c6da0f"
      },
      "execution_count": 62,
      "outputs": [
        {
          "output_type": "stream",
          "name": "stdout",
          "text": [
            "Hola usuario, bienvenido a la DIAN\n",
            "Porfa responde las siguientes preguntas para saber si tenes que presentar declaracion de renta\n",
            "Digita por favor tus ingresos totales para el año actual: 50000000\n",
            "Digita cuanto es el monto total de tu patrimonio bruto en el año actual150000000\n",
            "No debes declarar renta\n"
          ]
        }
      ]
    },
    {
      "cell_type": "code",
      "source": [
        "print(\"Hola usuario, welcome!!!\")\n",
        "print(\"Vamos a definir en que Universidad perteneces\")\n",
        "\n",
        "codigo = input(\"Porfa digita el codigo de tu Univeridad: \")\n",
        "\n",
        "letra = codigo[0]\n",
        "\n",
        "num = codigo[0:3]\n",
        "num1 =codigo[0:2]\n",
        "num2 = codigo[-1:-2]\n",
        "\n",
        "if letra == U or codigo <= :\n",
        "  print(f\"tu codigo {codigo} pertenece a la UNAB\")\n",
        "\n",
        "elif num > 1950:\n",
        "  print(f\"tu codigo {codigo} pertenece a la UIS\")\n",
        "\n",
        "elif letra == \"A\" and num1 == \"000\":\n",
        "    print(f\"tu codigo {codigo} pertenece a la U de los ANDES\")\n",
        "\n",
        "elif num2 == \"62\":\n",
        "  print(\"Estudias ingenieria de electronico\") \n",
        "\n",
        "elif num2 == \"23\":\n",
        "  print(\"Estudias ingenieria de Sistemas\")\n",
        "\n",
        "elif num2 == \"05\":\n",
        "    print(\"Estudias Administracción de empresas\")\n",
        "\n",
        "\n"
      ],
      "metadata": {
        "colab": {
          "base_uri": "https://localhost:8080/",
          "height": 287
        },
        "id": "SkeHV7mbFYZQ",
        "outputId": "b56c87d2-467a-4e01-a720-35d7252c6944"
      },
      "execution_count": 65,
      "outputs": [
        {
          "name": "stdout",
          "output_type": "stream",
          "text": [
            "Hola usuario, welcome!!!\n",
            "Vamos a definir en que Universidad perteneces\n",
            "Porfa digita el codigo de tu Univeridad: U00158998\n"
          ]
        },
        {
          "output_type": "error",
          "ename": "NameError",
          "evalue": "ignored",
          "traceback": [
            "\u001b[0;31m---------------------------------------------------------------------------\u001b[0m",
            "\u001b[0;31mNameError\u001b[0m                                 Traceback (most recent call last)",
            "\u001b[0;32m<ipython-input-65-daf5dd09a322>\u001b[0m in \u001b[0;36m<module>\u001b[0;34m()\u001b[0m\n\u001b[1;32m      9\u001b[0m \u001b[0mnum2\u001b[0m \u001b[0;34m=\u001b[0m \u001b[0mcodigo\u001b[0m\u001b[0;34m[\u001b[0m\u001b[0;34m-\u001b[0m\u001b[0;36m1\u001b[0m\u001b[0;34m:\u001b[0m\u001b[0;34m-\u001b[0m\u001b[0;36m2\u001b[0m\u001b[0;34m]\u001b[0m\u001b[0;34m\u001b[0m\u001b[0;34m\u001b[0m\u001b[0m\n\u001b[1;32m     10\u001b[0m \u001b[0;34m\u001b[0m\u001b[0m\n\u001b[0;32m---> 11\u001b[0;31m \u001b[0;32mif\u001b[0m \u001b[0mletra\u001b[0m \u001b[0;34m==\u001b[0m \u001b[0mU\u001b[0m \u001b[0;32mor\u001b[0m \u001b[0mcodigo\u001b[0m \u001b[0;34m<=\u001b[0m \u001b[0;34m\"10000000\"\u001b[0m\u001b[0;34m:\u001b[0m\u001b[0;34m\u001b[0m\u001b[0;34m\u001b[0m\u001b[0m\n\u001b[0m\u001b[1;32m     12\u001b[0m   \u001b[0mprint\u001b[0m\u001b[0;34m(\u001b[0m\u001b[0;34mf\"tu codigo {codigo} pertenece a la UNAB\"\u001b[0m\u001b[0;34m)\u001b[0m\u001b[0;34m\u001b[0m\u001b[0;34m\u001b[0m\u001b[0m\n\u001b[1;32m     13\u001b[0m \u001b[0;34m\u001b[0m\u001b[0m\n",
            "\u001b[0;31mNameError\u001b[0m: name 'U' is not defined"
          ]
        }
      ]
    }
  ]
}